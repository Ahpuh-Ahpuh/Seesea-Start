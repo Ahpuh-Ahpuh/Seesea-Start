{
 "cells": [
  {
   "cell_type": "code",
   "execution_count": 8,
   "id": "915a8860",
   "metadata": {},
   "outputs": [
    {
     "name": "stdout",
     "output_type": "stream",
     "text": [
      "x : 5\n",
      "y : 2\n",
      "20 개의 드론 필요\n",
      "( 0.0 ,  -9.0 )\n",
      "( 0.0 ,  33.807 )\n",
      "( 17.82 ,  -9.0 )\n",
      "( 17.82 ,  33.807 )\n",
      "( 35.64 ,  -9.0 )\n",
      "( 35.64 ,  33.807 )\n",
      "( 53.46 ,  -9.0 )\n",
      "( 53.46 ,  33.807 )\n",
      "( 71.28 ,  -9.0 )\n",
      "( 71.28 ,  33.807 )\n",
      "( 0.0 ,  15.807 )\n",
      "( 0.0 ,  58.614 )\n",
      "( 17.82 ,  15.807 )\n",
      "( 17.82 ,  58.614 )\n",
      "( 35.64 ,  15.807 )\n",
      "( 35.64 ,  58.614 )\n",
      "( 53.46 ,  15.807 )\n",
      "( 53.46 ,  58.614 )\n",
      "( 71.28 ,  15.807 )\n",
      "( 71.28 ,  58.614 )\n"
     ]
    }
   ],
   "source": [
    "import math\n",
    "\n",
    "# 가로 세로 입력 받기\n",
    "width = 50\n",
    "height = 40\n",
    "\n",
    "x = math.ceil(width/11.88)\n",
    "y = math.ceil(height/24.807)\n",
    "\n",
    "print(\"x :\", x)\n",
    "print(\"y :\", y)\n",
    "\n",
    "print(2*x*y,\"개의 드론 필요\")\n",
    "\n",
    "# 아랫줄\n",
    "# 윗줄 = 아랫줄 + 42.807\n",
    "for j in range(0, y):\n",
    "    b = round(-9 + (j * 24.807), 4)\n",
    "    c = round(b + 42.807, 4)\n",
    "    for i in range(0, x):\n",
    "        a = 17.82 * i\n",
    "        print(\"(\", a, \", \", b, \")\")\n",
    "        print(\"(\", a, \", \", c, \")\")\n",
    "        "
   ]
  }
 ],
 "metadata": {
  "kernelspec": {
   "display_name": "Python 3 (ipykernel)",
   "language": "python",
   "name": "python3"
  },
  "language_info": {
   "codemirror_mode": {
    "name": "ipython",
    "version": 3
   },
   "file_extension": ".py",
   "mimetype": "text/x-python",
   "name": "python",
   "nbconvert_exporter": "python",
   "pygments_lexer": "ipython3",
   "version": "3.9.13"
  }
 },
 "nbformat": 4,
 "nbformat_minor": 5
}
